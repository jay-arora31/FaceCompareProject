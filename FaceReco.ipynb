{
  "cells": [
    {
      "cell_type": "code",
      "execution_count": 20,
      "metadata": {
        "id": "zo4DgkfN7vQv"
      },
      "outputs": [],
      "source": [
        "import torch\n",
        "from torch import nn, optim\n",
        "import os\n",
        "import cv2\n",
        "import numpy as np\n",
        "import pickle\n",
        "from PIL import Image\n",
        "from torchvision import transforms\n",
        "import torch.nn.functional as F\n",
        "import matplotlib.pyplot as plt\n",
        "from typing import TYPE_CHECKING\n",
        "%matplotlib inline\n",
        "\n",
        "if TYPE_CHECKING:\n",
        "    from PIL.Image import Image"
      ]
    },
    {
      "cell_type": "code",
      "execution_count": 21,
      "metadata": {
        "id": "EpbxIKzBifsg"
      },
      "outputs": [],
      "source": [
        "DICTPATH = \"face_codes_data.dict\"\n",
        "MODEL_PATH = \"FaceCompare.pt\"\n",
        "DEVICE = torch.device(\"cuda\" if torch.cuda.is_available() else \"cpu\")"
      ]
    },
    {
      "cell_type": "code",
      "execution_count": 22,
      "metadata": {
        "id": "pTVTZW0dip4c"
      },
      "outputs": [],
      "source": [
        "class ContrastiveLoss(nn.Module):\n",
        "    def __init__(self, margin=2.0):\n",
        "        super(ContrastiveLoss, self).__init__()\n",
        "        self.margin = margin\n",
        "\n",
        "    def forward(self, output1, output2, label):\n",
        "        euclidean_distance = F.pairwise_distance(output1, output2, keepdim = True)\n",
        "        loss_contrastive = torch.mean((1-label) * torch.pow(euclidean_distance, 2) +\n",
        "                                      (label) * torch.pow(torch.clamp(self.margin - euclidean_distance, min=0.0), 2))\n",
        "        return loss_contrastive\n",
        "\n",
        "class FaceCompare(nn.Module):\n",
        "    def __init__(self):\n",
        "        super().__init__()\n",
        "        self.cnns = nn.Sequential(\n",
        "            nn.Conv2d(1, 4, padding=1, stride=2, kernel_size=3),\n",
        "            nn.LeakyReLU(0.2),\n",
        "            nn.BatchNorm2d(4),\n",
        "\n",
        "            nn.Conv2d(4, 8, padding=1, stride=2, kernel_size=3),\n",
        "            nn.LeakyReLU(0.2),\n",
        "            nn.BatchNorm2d(8),\n",
        "\n",
        "\n",
        "            nn.Conv2d(8, 16, padding=1, stride=2, kernel_size=3),\n",
        "            nn.LeakyReLU(0.2),\n",
        "            nn.BatchNorm2d(16),\n",
        "        )\n",
        "\n",
        "        self.fc = nn.Sequential(\n",
        "            nn.Flatten(),\n",
        "            nn.Linear(16*13**2, 500),\n",
        "            nn.LeakyReLU(0.2),\n",
        "\n",
        "            nn.Linear(500, 100),\n",
        "            nn.LeakyReLU(0.2),\n",
        "\n",
        "            nn.Linear(100, 5)\n",
        "        )\n",
        "\n",
        "        self.criterion = ContrastiveLoss()\n",
        "        self.optimizer = optim.Adam(self.parameters(), lr = 0.0005 )\n",
        "\n",
        "    def check_output_sizes(self, input_size: tuple[int, ...]):\n",
        "        x = torch.zeros(*input_size)\n",
        "        print(\"Input ->\", input_size, \"\\n\")\n",
        "        with torch.no_grad():\n",
        "            self.eval()\n",
        "            for layer in self.cnns.children():\n",
        "                x = layer(x)\n",
        "                print(f\"{layer.__class__.__name__} -> {tuple(x.shape)}\\n\")\n",
        "\n",
        "            for layer in self.fc.children():\n",
        "                x = layer(x)\n",
        "                print(f\"{layer.__class__.__name__} -> {tuple(x.shape)}\\n\")\n",
        "            self.train()\n",
        "\n",
        "    def get_face_code(self, x):\n",
        "        output = self.cnns(x)\n",
        "        output = output.view(output.size()[0], -1)\n",
        "        output = self.fc(output)\n",
        "        return output\n",
        "\n",
        "    def forward(self, input1, input2):\n",
        "        output1 = self.get_face_code(input1)\n",
        "        output2 = self.get_face_code(input2)\n",
        "        return output1, output2\n",
        "\n",
        "    def optimize(self, input1, input2, label):\n",
        "        self.optimizer.zero_grad()\n",
        "        output1, output2 = self(input1, input2)\n",
        "        loss = self.criterion(output1, output2, label)\n",
        "        loss.backward()\n",
        "        self.optimizer.step()\n",
        "        return loss\n"
      ]
    },
    {
      "cell_type": "code",
      "execution_count": 23,
      "metadata": {
        "id": "ydLrlKvNi7C5"
      },
      "outputs": [],
      "source": [
        "\n",
        "\n",
        "def Cv2ToPil(img: 'ndarray') -> 'Image':\n",
        "    img = cv2.cvtColor(img, cv2.COLOR_BGR2RGB)\n",
        "    pilImg = Image.fromarray(img)\n",
        "    return pilImg\n",
        "\n",
        "def PilToCv2(img: 'Image'):\n",
        "    img = np.array(img)\n",
        "    cv2Img = cv2.cvtColor(img, cv2.COLOR_RGB2BGR)\n",
        "    return cv2Img\n",
        "\n",
        "def CropFace(image: 'Image'):\n",
        "    img = PilToCv2(image)\n",
        "    img = cv2.cvtColor(img, cv2.COLOR_BGR2GRAY)\n",
        "\n",
        "    detector =  cv2.CascadeClassifier(cv2.data.haarcascades + \"haarcascade_frontalface_default.xml\")\n",
        "\n",
        "    result = detector.detectMultiScale(img, scaleFactor=1.05,minNeighbors=5,\n",
        "                                      minSize=(img.shape[0]//5, img.shape[1]//5))\n",
        "\n",
        "    if len(result)>1:\n",
        "        print(\"Warning: More than one face detected, cropped face may not be accurate\")\n",
        "    x, y, w, h = result[0]\n",
        "    img = img[y:y + h, x:x + w]\n",
        "\n",
        "    img = cv2.resize(img, (100,100), interpolation = cv2.INTER_CUBIC).astype(np.float32)\n",
        "    return torch.from_numpy(img/255).unsqueeze(0)\n",
        "\n",
        "def AddPerson(name: str, imagePath: str, model: 'FaceCompare', dictPath: str):\n",
        "    img = CropFace(Image.open(imagePath))\n",
        "    with torch.no_grad():\n",
        "        fcode = model.get_face_code(img.unsqueeze(0)).squeeze()\n",
        "\n",
        "    if os.path.exists(dictPath):\n",
        "        with open(dictPath, \"rb\") as f:\n",
        "            faceCodesData = pickle.load(f)\n",
        "    else:\n",
        "        faceCodesData = {}\n",
        "\n",
        "    faceCodesData[name] = fcode\n",
        "    with open(dictPath, \"wb\") as f:\n",
        "        pickle.dump(faceCodesData, f)\n",
        "        print(f\"{name} added to dict.\")\n",
        "\n",
        "def RemovePerson(name: str, dictPath: str):\n",
        "    with open(dictPath, \"rb\") as f:\n",
        "        faceCodesData = pickle.load(f)\n",
        "\n",
        "    del faceCodesData[name]\n",
        "\n",
        "    with open(dictPath, \"wb\") as f:\n",
        "        pickle.dump(faceCodesData, f)\n",
        "        print(f\"{name} removed from dict.\")\n",
        "\n",
        "def MatchFace(imagePath: str, model, dictPath: str):\n",
        "    img = CropFace(Image.open(imagePath))\n",
        "    with torch.no_grad():\n",
        "        fcode = model.get_face_code(img.unsqueeze(0)).squeeze()\n",
        "\n",
        "    with open(dictPath, \"rb\") as f:\n",
        "        faceCodesData = pickle.load(f)\n",
        "\n",
        "    bestMatch = {\"name\": None, \"distance\": 9999.}\n",
        "    for name, faceCode in faceCodesData.items():\n",
        "        d = F.pairwise_distance(fcode, faceCode).item()\n",
        "        if d<=2 and d < bestMatch[\"distance\"]:\n",
        "            bestMatch = {\"name\": name, \"distance\": d}\n",
        "\n",
        "    bestMatch[\"image\"] = img.squeeze()\n",
        "    return bestMatch\n",
        "\n",
        "def DetectFaces(image: 'Image'):\n",
        "    img = PilToCv2(image)\n",
        "    grayImg = cv2.cvtColor(img, cv2.COLOR_BGR2GRAY)\n",
        "\n",
        "    detector =  cv2.CascadeClassifier(cv2.data.haarcascades + \"haarcascade_frontalface_default.xml\")\n",
        "    results = detector.detectMultiScale(grayImg, scaleFactor=1.05,\n",
        "                                        minSize=(img.shape[0]//4, img.shape[1]//4), minNeighbors=5)\n",
        "\n",
        "    for x, y, w, h in results:\n",
        "        cv2.rectangle(img, (x,y), (x+w,y+h), (255,0,0), 2)\n",
        "\n",
        "    return img\n"
      ]
    },
    {
      "cell_type": "code",
      "execution_count": 24,
      "metadata": {
        "colab": {
          "base_uri": "https://localhost:8080/"
        },
        "id": "Lr_14VdNjBMf",
        "outputId": "61a30aba-3035-4940-8f1a-03ce609f1f37"
      },
      "outputs": [
        {
          "data": {
            "text/plain": [
              "<All keys matched successfully>"
            ]
          },
          "execution_count": 24,
          "metadata": {},
          "output_type": "execute_result"
        }
      ],
      "source": [
        "model = FaceCompare()\n",
        "model.load_state_dict(torch.load(MODEL_PATH, DEVICE))"
      ]
    },
    {
      "cell_type": "code",
      "execution_count": 25,
      "metadata": {
        "colab": {
          "base_uri": "https://localhost:8080/"
        },
        "id": "k1avOLfc7vlj",
        "outputId": "038bc5de-5d8e-4168-8a00-a023547ae266"
      },
      "outputs": [
        {
          "name": "stdout",
          "output_type": "stream",
          "text": [
            "Using cpu device\n"
          ]
        }
      ],
      "source": [
        "device = \"cuda\" if torch.cuda.is_available() else \"cpu\"\n",
        "print(f\"Using {device} device\")"
      ]
    },
    {
      "cell_type": "code",
      "execution_count": 26,
      "metadata": {
        "colab": {
          "base_uri": "https://localhost:8080/"
        },
        "id": "iOdK6m4cjRm6",
        "outputId": "da24af1d-d96b-44e7-e315-c78b01d404b0"
      },
      "outputs": [
        {
          "name": "stdout",
          "output_type": "stream",
          "text": [
            "Rohit Sharma added to dict.\n"
          ]
        }
      ],
      "source": [
        "AddPerson(name=\"Rohit Sharma\", imagePath=\"dataface/rohit.jpg\", model=model, dictPath=DICTPATH)\n"
      ]
    },
    {
      "cell_type": "code",
      "execution_count": 33,
      "metadata": {
        "id": "JUHn9HtHk4tD"
      },
      "outputs": [],
      "source": [
        "IMAGE_PATH = \"dataface/rohit1.jpg\"\n"
      ]
    },
    {
      "cell_type": "code",
      "execution_count": 34,
      "metadata": {
        "colab": {
          "base_uri": "https://localhost:8080/",
          "height": 468
        },
        "id": "vU-anCh0jaDD",
        "outputId": "67a4b775-3daf-4b23-8fa1-5c00e90dd760"
      },
      "outputs": [
        {
          "name": "stdout",
          "output_type": "stream",
          "text": [
            "No Match Found\n"
          ]
        },
        {
          "data": {
            "image/png": "[encoded data removed]",
            "text/plain": [
              "<Figure size 640x480 with 1 Axes>"
            ]
          },
          "metadata": {},
          "output_type": "display_data"
        }
      ],
      "source": [
        "best_match = MatchFace(IMAGE_PATH, model, DICTPATH)\n",
        "plt.imshow(best_match[\"image\"], cmap=\"gray\")\n",
        "if best_match[\"name\"] is not None:\n",
        "    plt.text(0, 90, best_match[\"name\"], backgroundcolor=\"white\", fontsize=\"20\")\n",
        "    print(f\"Person identified to be {best_match['name']}.\")\n",
        "    print(\"Dissimilarity Score -\", best_match[\"distance\"])\n",
        "else:\n",
        "    print(\"No Match Found\")"
      ]
    },
    {
      "cell_type": "code",
      "execution_count": null,
      "metadata": {
        "id": "95x_LC8Ts83t"
      },
      "outputs": [],
      "source": []
    },
    {
      "cell_type": "code",
      "execution_count": null,
      "metadata": {
        "id": "XqDNDLqajbYy"
      },
      "outputs": [],
      "source": []
    }
  ],
  "metadata": {
    "colab": {
      "provenance": []
    },
    "kernelspec": {
      "display_name": "Python 3",
      "name": "python3"
    },
    "language_info": {
      "codemirror_mode": {
        "name": "ipython",
        "version": 3
      },
      "file_extension": ".py",
      "mimetype": "text/x-python",
      "name": "python",
      "nbconvert_exporter": "python",
      "pygments_lexer": "ipython3",
      "version": "3.9.5"
    }
  },
  "nbformat": 4,
  "nbformat_minor": 0
}
